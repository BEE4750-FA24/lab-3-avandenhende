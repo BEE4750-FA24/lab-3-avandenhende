{
 "cells": [
  {
   "cell_type": "markdown",
   "id": "20f04953-8e3b-4bf2-ac07-34207fed2f94",
   "metadata": {},
   "source": [
    "# BEE 4750 Lab 3: Linear Programming with JuMP\n",
    "\n",
    "**Name**:\n",
    "\n",
    "**ID**:\n",
    "\n",
    "> **Due Date**\n",
    ">\n",
    "> Wednesday, 10/16/24, 9:00pm\n",
    "\n",
    "## Setup\n",
    "\n",
    "The following code should go at the top of most Julia scripts; it will\n",
    "load the local package environment and install any needed packages. You\n",
    "will see this often and shouldn’t need to touch it."
   ]
  },
  {
   "cell_type": "code",
   "execution_count": 1,
   "id": "2",
   "metadata": {},
   "outputs": [
    {
     "name": "stderr",
     "output_type": "stream",
     "text": [
      "\u001b[32m\u001b[1m  Activating\u001b[22m\u001b[39m project at `/home2/ajv85/lab-3-avandenhende`\n"
     ]
    }
   ],
   "source": [
    "import Pkg\n",
    "Pkg.activate(\".\")\n",
    "Pkg.instantiate()"
   ]
  },
  {
   "cell_type": "code",
   "execution_count": 2,
   "id": "4",
   "metadata": {},
   "outputs": [],
   "source": [
    "using JuMP # optimization modeling syntax\n",
    "using HiGHS # optimization solver"
   ]
  },
  {
   "cell_type": "markdown",
   "id": "5fbced4c-bd36-40c3-9e3c-b21186db2bf5",
   "metadata": {},
   "source": [
    "## Overview\n",
    "\n",
    "In this lab, you will write and solve a resource allocation example\n",
    "using `JuMP.jl`. `JuMP.jl` provides an intuitive syntax for writing,\n",
    "solving, and querying optimization problems.\n",
    "\n",
    "`JuMP` requires the loading of a solver. \\[Each supported solver works\n",
    "for certain classes of problems, and some are open source while others\n",
    "require a commercial license\\]. We will use the `HiGHS` solver, which is\n",
    "open source and works for linear, mixed integer linear, and quadratic\n",
    "programs.\n",
    "\n",
    "In this lab we will walk through the steps involved in coding a linear\n",
    "program in HiGHS, solving it, and querying the solution.\n",
    "\n",
    "## Exercise (3 points)\n",
    "\n",
    "Your task is to decide how much lumber to produce to maximize profit\n",
    "from wood sales. You can purchase wood from a managed forest, which\n",
    "consists of spruce (320,000 bf) and fir (720,000 bf). Spruce costs\n",
    "$\\$0.12$ per bf to purchase and fir costs $\\$0.08$ per bf.\n",
    "\n",
    "At the lumber mill, wood can be turned into plywood of various grades\n",
    "(see <a href=\"#tbl-inputs\" class=\"quarto-xref\">Table 1</a> for how much\n",
    "wood of each type is required for and the revenue from each grade). Any\n",
    "excess wood is sent to be recycled into particle board, which yields no\n",
    "revenue for the mill.\n",
    "\n",
    "| Plywood Grade | Inputs (bf/bf plywood) | Revenue (\\$/1000 bf) |\n",
    "|:-------------:|:----------------------:|:--------------------:|\n",
    "|       1       |   0.5 (S) + 1.5 (F)    |         400          |\n",
    "|       2       |   1.0 (S) + 2.0 (F)    |         520          |\n",
    "|       3       |   1.5 (S) + 2.0 (F)    |         700          |\n",
    "\n",
    "Table 1: Wood inputs and revenue by plywood grade. S refers to spruce\n",
    "inputs, F fir inputs.\n",
    "\n",
    "First, we need to identify our decision variables. While there are\n",
    "several options, we will use $G_i$, the amount of each grade the mill\n",
    "produces (in 1000 bf).\n",
    "\n",
    "Using these decision variables, formulate a linear program to maximize\n",
    "the profit of the mill subject to the supply constraints on spruce and\n",
    "fir.\n",
    "\n",
    "> **JuMP Syntax**\n",
    ">\n",
    "> The core pieces of setting up a `JuMP` model involve specifying the\n",
    "> model and adding variables, the objective, and constraints. At the\n",
    "> most simple level, this syntax looks like this:\n",
    ">\n",
    "> ``` julia\n",
    "> m = Model(HiGHS.Optimizer)\n",
    "> @variable(m, lb <= x <= ub) # if you do not have upper or lower bounds, you can drop those accordingly\n",
    "> @variable(m, lb <= y <= ub)\n",
    "> @objective(m, Max, 100x + 250y) # replace Max with Min depending on the problem\n",
    "> @constraint(m, label, 6x + 12y <= 80) # replace \"label\" with some meaningful string you would like to use later to query shadow prices, or drop it\n",
    "> ```\n",
    ">\n",
    "> You can add more constraints or more variables as needed.\n",
    "\n",
    "> **Using Array Syntax**\n",
    ">\n",
    "> You can set up multiple variables or constraints at once using array\n",
    "> syntax. For example, the following are equivalent:\n",
    ">\n",
    "> ``` julia\n",
    "> @variable(m, G1 >= 0)\n",
    "> @variable(m, G2 >= 0)\n",
    "> @variable(m, G3 >= 0)\n",
    "> ```\n",
    ">\n",
    "> and\n",
    ">\n",
    "> ``` julia\n",
    "> @variable(m, G[1:3] >= 0)\n",
    "> ```\n",
    ">\n",
    "> You can also set up multiple constraints using arrays of coefficients\n",
    "> and/or bounds. For example:\n",
    ">\n",
    "> ``` julia\n",
    "> I = 1:3\n",
    "> d = [0; 3; 5]\n",
    "> @constraint(m, demand[i in I], G[i] >= d[i])\n",
    "> ```\n",
    "\n",
    "`JuMP` is finicky about changing objects and constraints, so I recommend\n",
    "setting up all of the model syntax in one notebook cell, which is what\n",
    "we will do here."
   ]
  },
  {
   "cell_type": "markdown",
   "id": "f37452c1-fc2a-4f32-86e9-760f07327f7d",
   "metadata": {},
   "source": [
    "#### Model Description (Problem Solution)\n",
    "This model attempts to maximize the total PROFIT of wood sales where profit is described in a simple revenue - cost model. The model is described below:<br>\n",
    "Variables: $ G_1, G_2, G_3 $ describe the amout of each plywood grade sold in bf <br>\n",
    "Constraint (non-negativity): $ G_1 \\geq 0, G_2 \\geq 0, G_3 \\geq 0 $ <br>\n",
    "Objective: $ Max : Revenue - cost = (G_1*0.4 + G_2*0.52 + G_3*0.7) - (G_1*0.5 + G_2*1 + G_3*1.5)0.12 - (G_1*1.5 + G_2*2 + G_3*2)0.08$ <br>\n",
    "Constraint (spruce production limit): $ G_1*0.5 + G_2*1 + G_3*1.5 \\leq 320,000 $ <br>\n",
    "Constraint (fir production limit): $ G_1*1.5 + G_2*2 + G_3*2 \\leq 720,000 $"
   ]
  },
  {
   "cell_type": "code",
   "execution_count": 3,
   "id": "6",
   "metadata": {},
   "outputs": [
    {
     "data": {
      "text/latex": [
       "$$ \\begin{aligned}\n",
       "\\max\\quad & 0.22 G_{1} + 0.24 G_{2} + 0.36 G_{3}\\\\\n",
       "\\text{Subject to} \\quad & 0.5 G_{1} + G_{2} + 1.5 G_{3} \\leq 320000\\\\\n",
       " & 1.5 G_{1} + 2 G_{2} + 2 G_{3} \\leq 720000\\\\\n",
       " & G_{1} \\geq 0\\\\\n",
       " & G_{2} \\geq 0\\\\\n",
       " & G_{3} \\geq 0\\\\\n",
       "\\end{aligned} $$"
      ]
     },
     "metadata": {},
     "output_type": "display_data"
    }
   ],
   "source": [
    "forest_model = Model(HiGHS.Optimizer) # initialize model object\n",
    "@variable(forest_model, G[1:3] >= 0) # non-negativity constraints\n",
    "# G[1]*0.4 + G[2]*0.52 + G[3]*0.7 - (G[1]*0.5 + G[2]*1 + G[3]*1.5)*0.12 - (G[1]*1.5 + G[2]*2 + G[3]*2)*0.08\n",
    "@objective(forest_model, Max, G[1]*0.22 + G[2]*0.24 + G[3]*0.36)\n",
    "@constraint(forest_model, Spruce, G[1]*0.5 + G[2]*1 + G[3]*1.5 <= 320000)\n",
    "@constraint(forest_model, Fir, G[1]*1.5 + G[2]*2 + G[3]*2 <= 720000)\n",
    "print(forest_model) # this outputs a nicely formatted summary of the model so you can check your specification"
   ]
  },
  {
   "cell_type": "markdown",
   "id": "4e87a9d3-cf42-48c8-9056-b3783747fda5",
   "metadata": {},
   "source": [
    "Next, to optimize, use the `optimize!()` function:"
   ]
  },
  {
   "cell_type": "code",
   "execution_count": 4,
   "id": "8",
   "metadata": {},
   "outputs": [
    {
     "name": "stdout",
     "output_type": "stream",
     "text": [
      "Running HiGHS 1.7.2 (git hash: 5ce7a2753): Copyright (c) 2024 HiGHS under MIT licence terms\n",
      "Coefficient ranges:\n",
      "  Matrix [5e-01, 2e+00]\n",
      "  Cost   [2e-01, 4e-01]\n",
      "  Bound  [0e+00, 0e+00]\n",
      "  RHS    [3e+05, 7e+05]\n",
      "Presolving model\n",
      "2 rows, 3 cols, 6 nonzeros  0s\n",
      "2 rows, 3 cols, 6 nonzeros  0s\n",
      "Presolve : Reductions: rows 2(-0); columns 3(-0); elements 6(-0) - Not reduced\n",
      "Problem not reduced by presolve: solving the LP\n",
      "Using EKK dual simplex solver - serial\n",
      "  Iteration        Objective     Infeasibilities num(sum)\n",
      "          0    -8.1999884144e-01 Ph1: 2(8.5); Du: 3(0.819999) 0s\n",
      "          2     1.1200000000e+05 Pr: 0(0) 0s\n",
      "Model   status      : Optimal\n",
      "Simplex   iterations: 2\n",
      "Objective value     :  1.1200000000e+05\n",
      "HiGHS run time      :          0.00\n"
     ]
    }
   ],
   "source": [
    "optimize!(forest_model)"
   ]
  },
  {
   "cell_type": "markdown",
   "id": "a5978b12-4e04-4aa7-af76-bff2a538ce91",
   "metadata": {},
   "source": [
    "You should get confirmation that a solution was found; if one was not,\n",
    "there’s a chance something was wrong with your model formulation.\n",
    "\n",
    "To find the values of the decision variables, use `value()` (which can\n",
    "be broadcasted over variable arrays):"
   ]
  },
  {
   "cell_type": "code",
   "execution_count": 5,
   "id": "10",
   "metadata": {},
   "outputs": [
    {
     "name": "stdout",
     "output_type": "stream",
     "text": [
      "value.(G) = [352000.0, 0.0, 96000.0]\n"
     ]
    }
   ],
   "source": [
    "@show value.(G);"
   ]
  },
  {
   "cell_type": "markdown",
   "id": "44201756-c452-4559-93d4-4a20fdd9e76e",
   "metadata": {},
   "source": [
    "Similarly, `objective_value()` finds the optimal value of the objective:"
   ]
  },
  {
   "cell_type": "code",
   "execution_count": 6,
   "id": "12",
   "metadata": {},
   "outputs": [
    {
     "name": "stdout",
     "output_type": "stream",
     "text": [
      "objective_value(forest_model) = 112000.0\n"
     ]
    }
   ],
   "source": [
    "@show objective_value(forest_model);"
   ]
  },
  {
   "cell_type": "markdown",
   "id": "5940717c-ab7e-4d2e-8dc1-245e8b476226",
   "metadata": {},
   "source": [
    "Finally, we can find the dual values of the constraints with\n",
    "`shadow_price()`. Do this for the constraints in your model using the\n",
    "block below."
   ]
  },
  {
   "cell_type": "code",
   "execution_count": 7,
   "id": "14",
   "metadata": {},
   "outputs": [
    {
     "name": "stdout",
     "output_type": "stream",
     "text": [
      "shadow_price(Spruce) = 0.08000000000000003\n",
      "shadow_price(Fir) = 0.11999999999999997\n"
     ]
    }
   ],
   "source": [
    "@show shadow_price(Spruce);\n",
    "@show shadow_price(Fir);"
   ]
  },
  {
   "cell_type": "markdown",
   "id": "1b8eb8a1-896e-4799-9888-a44175a84718",
   "metadata": {},
   "source": [
    "`JuMP` also lets you evaluate other expressions that you might be\n",
    "interested in based on the solutions. For example, you can use the\n",
    "following block to calculate the total amount of plywood the mill would\n",
    "produce under the optimal solution:"
   ]
  },
  {
   "cell_type": "code",
   "execution_count": 8,
   "id": "16",
   "metadata": {},
   "outputs": [
    {
     "name": "stdout",
     "output_type": "stream",
     "text": [
      "value.(total_plywood) = 448000.0\n"
     ]
    }
   ],
   "source": [
    "@expression(forest_model, total_plywood, sum(G))\n",
    "@show value.(total_plywood);"
   ]
  },
  {
   "cell_type": "markdown",
   "id": "d5c0029a-608c-435e-8bf2-e17a633ba4b6",
   "metadata": {},
   "source": [
    "## References\n",
    "\n",
    "Put any consulted sources here, including classmates you worked with/who\n",
    "helped you."
   ]
  }
 ],
 "metadata": {
  "kernel_info": {
   "name": "julia"
  },
  "kernelspec": {
   "display_name": "Julia 1.10.4",
   "language": "julia",
   "name": "julia-1.10"
  },
  "language_info": {
   "file_extension": ".jl",
   "mimetype": "application/julia",
   "name": "julia",
   "version": "1.10.4"
  }
 },
 "nbformat": 4,
 "nbformat_minor": 5
}
